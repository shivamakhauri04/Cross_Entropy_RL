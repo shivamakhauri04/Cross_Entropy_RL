{
 "cells": [
  {
   "cell_type": "code",
   "execution_count": 1,
   "metadata": {},
   "outputs": [],
   "source": [
    "import gym\n",
    "from collections import namedtuple\n",
    "import numpy as np\n",
    "from tensorboardX import SummaryWriter\n",
    "\n",
    "import torch \n",
    "import torch.nn as nn\n",
    "import torch.optim as optim"
   ]
  },
  {
   "cell_type": "code",
   "execution_count": 2,
   "metadata": {},
   "outputs": [],
   "source": [
    "HIDDEN_SIZE = 128\n",
    "BATCH_SIZE = 15\n",
    "PERCENTILE = 75\n",
    "GAMMA = 0.9"
   ]
  },
  {
   "cell_type": "code",
   "execution_count": 3,
   "metadata": {},
   "outputs": [],
   "source": [
    "class DiscreteOneHotWrapper(gym.ObservationWrapper):\n",
    "    def __init__(self,env):\n",
    "        super(DiscreteOneHotWrapper,self).__init__(env)\n",
    "        assert isinstance(env.observation_space,gym.spaces.Discrete)\n",
    "        self.observation_space = gym.spaces.Box(0.0,1.0,(env.observation_space.n,),dtype=np.float32)\n",
    "    \n",
    "    def observation(self,observation):\n",
    "        res = np.copy(self.observation_space.low)\n",
    "        res[observation]=1.0\n",
    "        return res"
   ]
  },
  {
   "cell_type": "code",
   "execution_count": 4,
   "metadata": {},
   "outputs": [],
   "source": [
    "class Network(nn.Module):\n",
    "    def __init__(self,obs_size,hidden_size,num_actions):\n",
    "        super(Network,self).__init__()\n",
    "        self.network = nn.Sequential(\n",
    "        nn.Linear(obs_size,hidden_size),\n",
    "        nn.ReLU(),\n",
    "        nn.Linear(hidden_size,num_actions)\n",
    "        )\n",
    "    def forward(self,x):\n",
    "        return self.network(x)"
   ]
  },
  {
   "cell_type": "code",
   "execution_count": 5,
   "metadata": {},
   "outputs": [],
   "source": [
    "Episode = namedtuple('Episode', field_names = ['reward','steps'])\n",
    "EpisodeStep = namedtuple('EpisodeStep',field_names = ['observation','action'])"
   ]
  },
  {
   "cell_type": "code",
   "execution_count": 6,
   "metadata": {},
   "outputs": [],
   "source": [
    "def iterate_batches(env,Network,batch_size):\n",
    "    batch = []\n",
    "    episode_reward = 0.0\n",
    "    episode_steps = []\n",
    "    obs = env.reset()\n",
    "    sm = nn.Softmax(dim=1)\n",
    "    while True:\n",
    "        obs_v = torch.FloatTensor([obs])\n",
    "        act_prob_v = sm(Network(obs_v))\n",
    "        act_prob = act_prob_v.data.numpy()[0]\n",
    "        action = np.random.choice(len(act_prob),p=act_prob)\n",
    "        next_obs, reward, is_done, _ = env.step(action)\n",
    "        episode_reward += reward\n",
    "        episode_steps.append(EpisodeStep(observation=obs,action=action))\n",
    "        if is_done:\n",
    "            batch.append(Episode(reward=episode_reward,steps=episode_steps))\n",
    "            episode_reward = 0.0\n",
    "            episode_steps = []\n",
    "            next_obs = env.reset()\n",
    "            if len(batch)==batch_size:\n",
    "                yield batch\n",
    "                batch = []\n",
    "        obs = next_obs"
   ]
  },
  {
   "cell_type": "code",
   "execution_count": 7,
   "metadata": {},
   "outputs": [],
   "source": [
    "def filter_batch(batch,percentile):\n",
    "    disc_rewards = list(map(lambda s:s.reward*(GAMMA**len(s.steps)),batch))\n",
    "    reward_bound = np.percentile(disc_rewards,percentile)\n",
    "    #reward_mean = float(np.mean(rewards))\n",
    "    \n",
    "    train_obs = []\n",
    "    train_act = []\n",
    "    elite_batch = []\n",
    "    for example,discounted_reward in zip(batch,disc_rewards): \n",
    "        if discounted_reward> reward_bound:\n",
    "            train_obs.extend(map(lambda step:step.observation,example.steps))\n",
    "            train_act.extend(map(lambda step:step.action,example.steps))\n",
    "            elite_batch.append(example)\n",
    "    #train_obs_v = torch.FloatTensor(train_obs)\n",
    "    #train_act_v = torch.LongTensor(train_act)\n",
    "    \n",
    "    return elite_batch,train_obs,train_act,reward_bound"
   ]
  },
  {
   "cell_type": "code",
   "execution_count": null,
   "metadata": {},
   "outputs": [],
   "source": [
    "if __name__ == \"__main__\":\n",
    "    random.seed(12345)\n",
    "    env = gym.envs.toy_text.frozen_lake.FrozenLakeEnv(is_slippery=False)\n",
    "    env = gym.wrappers.TimeLimit(env,max_episode_steps=100)\n",
    "    env = DiscreteOneHotWrapper(env)\n",
    "    #env = gym.wrappers.Monitor(env,directory=\"01_mon\",force=True) \n",
    "    \n",
    "    obs_size = env.observation_space.shape[0]\n",
    "    n_actions = env.action_space.n\n",
    "    \n",
    "    network = Network(obs_size,HIDDEN_SIZE,n_actions)\n",
    "    objective = nn.CrossEntropyLoss()\n",
    "    optimizer = optim.Adam(params = network.parameters(),lr=0.001)\n",
    "    writer = SummaryWriter(comment='-frozenlake-non_s')\n",
    "    \n",
    "    elite_batch = [] \n",
    "    for iter_no,batch in enumerate(iterate_batches(env,network,BATCH_SIZE)):\n",
    "        reward_mean = float(np.mean(list(map(lambda step:step.reward,batch))))\n",
    "        elite_batch,obs,act,reward_bound= filter_batch(elite_batch+batch,PERCENTILE)\n",
    "        if not elite_batch:\n",
    "            continue\n",
    "        \n",
    "        obs_v = torch.FloatTensor(obs)\n",
    "        act_v = torch.LongTensor(act)\n",
    "        elite_batch = elite_batch[-500:]\n",
    "        \n",
    "        optimizer.zero_grad()\n",
    "        action_scores_v = network(obs_v)\n",
    "        #print (action_scores_v)\n",
    "        #print (act_v)\n",
    "        #print (obs_v)\n",
    "        loss_v = objective(action_scores_v,act_v)\n",
    "        loss_v.backward()\n",
    "        optimizer.step()\n",
    "\n",
    "        print(\"%d: loss=%.3f, reward_mean=%.3f, reward_bound=%.3f, batch=%d\" % (iter_no, loss_v.item(), reward_mean, reward_bound, len(elite_batch)))\n",
    "        writer.add_scalar(\"loss\", loss_v.item(), iter_no)\n",
    "        writer.add_scalar(\"reward_mean\", reward_mean, iter_no)\n",
    "        writer.add_scalar(\"reward_bound\", reward_bound, iter_no)\n",
    "        if reward_mean > 0.8:\n",
    "            print(\"Solved!\")\n",
    "            break\n",
    "    writer.close()"
   ]
  },
  {
   "cell_type": "code",
   "execution_count": null,
   "metadata": {},
   "outputs": [],
   "source": []
  }
 ],
 "metadata": {
  "kernelspec": {
   "display_name": "Python 3",
   "language": "python",
   "name": "python3"
  },
  "language_info": {
   "codemirror_mode": {
    "name": "ipython",
    "version": 3
   },
   "file_extension": ".py",
   "mimetype": "text/x-python",
   "name": "python",
   "nbconvert_exporter": "python",
   "pygments_lexer": "ipython3",
   "version": "3.6.5"
  }
 },
 "nbformat": 4,
 "nbformat_minor": 2
}
